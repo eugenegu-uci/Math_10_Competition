{
 "cells": [
  {
   "cell_type": "code",
   "execution_count": null,
   "id": "3117ecf3",
   "metadata": {},
   "outputs": [],
   "source": [
    "import numpy as np\n",
    "import pandas as pd"
   ]
  },
  {
   "cell_type": "code",
   "execution_count": null,
   "id": "22347174",
   "metadata": {},
   "outputs": [],
   "source": [
    "# fetch dataset from uci ml repository\n",
    "\n",
    "from ucimlrepo import fetch_ucirepo\n",
    "  \n",
    "# fetch dataset \n",
    "airfoil_self_noise = fetch_ucirepo(id=291) \n",
    "  \n",
    "# data (as pandas dataframes) \n",
    "X = airfoil_self_noise.data.features \n",
    "y = airfoil_self_noise.data.targets \n",
    "# metadata \n",
    "print(airfoil_self_noise.metadata) \n",
    "# variable information \n",
    "print(airfoil_self_noise.variables) "
   ]
  },
  {
   "cell_type": "code",
   "execution_count": null,
   "id": "90c427c1",
   "metadata": {},
   "outputs": [],
   "source": [
    "# define ploynomial fit method\n",
    "\n",
    "from sklearn.model_selection import train_test_split\n",
    "from sklearn.preprocessing import PolynomialFeatures\n",
    "from sklearn.linear_model import Ridge\n",
    "from sklearn.preprocessing import StandardScaler\n",
    "from sklearn.pipeline import Pipeline\n",
    "from sklearn.metrics import mean_squared_error\n",
    "\n",
    "def train_poly_ridge(X_train, y_train, degree=3, alpha=1.0):\n",
    "    \"\"\"Train Ridge regression with polynomial features.\"\"\"\n",
    "    model = Pipeline([\n",
    "        (\"scale\", StandardScaler()),\n",
    "        (\"poly\", PolynomialFeatures(degree=degree, include_bias=False)),\n",
    "        (\"ridge\", Ridge(alpha=alpha, solver='auto')) # regularization\n",
    "    ])\n",
    "    model.fit(X_train, y_train)\n",
    "    return model\n",
    "\n",
    "def evaluate_model(model, X_test, y_test):\n",
    "    \"\"\"Evaluate model and print MSE.\"\"\"\n",
    "    y_pred = model.predict(X_test)\n",
    "    mse = mean_squared_error(y_test, y_pred)\n",
    "    print(f\"Mean Squared Error: {mse:.4f}\")\n",
    "    return y_pred\n"
   ]
  },
  {
   "cell_type": "code",
   "execution_count": null,
   "id": "d615fb1d",
   "metadata": {},
   "outputs": [],
   "source": [
    "# feature engineering: transform training data\n",
    "\n",
    "def transform_features(X: pd.DataFrame) -> pd.DataFrame:\n",
    "    X_transformed = X.copy()\n",
    "\n",
    "    # Basic transforms\n",
    "    X_transformed[\"log_frequency\"] = np.log1p(X[\"frequency\"])\n",
    "    X_transformed[\"attack_angle_squared\"] = X[\"attack-angle\"] ** 2\n",
    "    X_transformed[\"log_thickness\"] = np.log1p(X[\"suction-side-displacement-thickness\"])\n",
    "\n",
    "    # Interaction terms\n",
    "    X_transformed[\"freq_times_thick\"] = X[\"frequency\"] * X[\"suction-side-displacement-thickness\"]\n",
    "    X_transformed[\"velocity_div_chord\"] = X[\"free-stream-velocity\"] / X[\"chord-length\"]\n",
    "    X_transformed[\"angle_times_freq\"] = X[\"attack-angle\"] * X[\"frequency\"]\n",
    "\n",
    "    # Ratio of geometry\n",
    "    X_transformed[\"thickness_to_chord\"] = (\n",
    "        X[\"suction-side-displacement-thickness\"] / X[\"chord-length\"]\n",
    "    )\n",
    "\n",
    "    return X_transformed\n"
   ]
  },
  {
   "cell_type": "code",
   "execution_count": null,
   "id": "c130c7b0",
   "metadata": {},
   "outputs": [
    {
     "name": "stdout",
     "output_type": "stream",
     "text": [
      "Mean Squared Error: 4.4125\n"
     ]
    }
   ],
   "source": [
    "# train a model\n",
    "\n",
    "# Split\n",
    "X_train, X_test, y_train, y_test = train_test_split(\n",
    "    airfoil_self_noise.data.features,\n",
    "    airfoil_self_noise.data.targets,\n",
    "    test_size=0.2,\n",
    "    random_state=42\n",
    ")\n",
    "\n",
    "X_train_transformed = transform_features(X_train)\n",
    "X_test_transformed = transform_features(X_test)\n",
    "features = list(X_train_transformed.columns)\n",
    "\n",
    "# Train model and evaluate\n",
    "model = train_poly_ridge(X_train_transformed, y_train, degree=3, alpha=10.0)\n",
    "y_pred = evaluate_model(model, X_test_transformed, y_test)"
   ]
  },
  {
   "cell_type": "code",
   "execution_count": 47,
   "id": "426a726d",
   "metadata": {},
   "outputs": [
    {
     "name": "stdout",
     "output_type": "stream",
     "text": [
      "velocity_div_chord                     0.213807\n",
      "free-stream-velocity                   0.120634\n",
      "attack_angle_squared                  -0.131568\n",
      "attack-angle                          -0.131687\n",
      "thickness_to_chord                    -0.135384\n",
      "chord-length                          -0.241412\n",
      "log_thickness                         -0.281684\n",
      "suction-side-displacement-thickness   -0.282183\n",
      "log_frequency                         -0.374685\n",
      "frequency                             -0.409621\n",
      "angle_times_freq                      -0.430317\n",
      "freq_times_thick                      -0.572944\n",
      "Name: target, dtype: float64\n"
     ]
    }
   ],
   "source": [
    "# compute corr coef\n",
    "\n",
    "X_train_transformed[\"target\"] = y_train\n",
    "corr_matrix = X_train_transformed.corr()\n",
    "target_corr = corr_matrix[\"target\"].drop(\"target\").sort_values(ascending=False)\n",
    "print(target_corr)"
   ]
  },
  {
   "cell_type": "code",
   "execution_count": null,
   "id": "60a9aa0c",
   "metadata": {},
   "outputs": [],
   "source": [
    "# find optimal param using grad search\n",
    "\n",
    "from sklearn.model_selection import GridSearchCV\n",
    "from sklearn.pipeline import Pipeline\n",
    "from sklearn.preprocessing import PolynomialFeatures, StandardScaler\n",
    "from sklearn.linear_model import Ridge\n",
    "\n",
    "def build_pipeline():\n",
    "    return Pipeline([\n",
    "        (\"scale\", StandardScaler()),\n",
    "        (\"poly\", PolynomialFeatures()),\n",
    "        (\"ridge\", Ridge())\n",
    "    ])\n",
    "\n",
    "def run_grid_search(X_train, y_train):\n",
    "    pipeline = build_pipeline()\n",
    "\n",
    "    param_grid = {\n",
    "        \"poly__degree\": [2, 3, 4, 5],\n",
    "        \"poly__interaction_only\": [False],  # or [True, False]\n",
    "        \"ridge__alpha\": [0.01, 0.1, 1, 10, 100],\n",
    "        \"ridge__solver\": ['auto', 'saga', 'lsqr']\n",
    "    }\n",
    "\n",
    "    grid = GridSearchCV(pipeline, param_grid, scoring='neg_mean_squared_error', cv=5, n_jobs=-1)\n",
    "    grid.fit(X_train, y_train)\n",
    "    return grid\n"
   ]
  },
  {
   "cell_type": "code",
   "execution_count": null,
   "id": "3145b09b",
   "metadata": {},
   "outputs": [],
   "source": [
    "# # Gradient search\n",
    "\n",
    "# grid = run_grid_search(X_train_transformed, y_train)\n",
    "\n",
    "# # Best model and evaluation\n",
    "# print(\"Best Parameters:\", grid.best_params_)\n",
    "# best_model = grid.best_estimator_\n",
    "# y_pred = best_model.predict(X_test_transformed)\n",
    "\n",
    "# # Evaluate\n",
    "# mse = mean_squared_error(y_test, y_pred)\n",
    "# print(f\"Test MSE: {mse:.4f}\")\n"
   ]
  },
  {
   "cell_type": "code",
   "execution_count": null,
   "id": "7ed3062c",
   "metadata": {},
   "outputs": [],
   "source": [
    "# predict the testing data and output the submission file\n",
    "\n",
    "X_sub_test = pd.read_csv(\"test.csv\")\n",
    "X_sub_test = X_sub_test.rename(columns={\"displacement-thickness\": \"suction-side-displacement-thickness\"})\n",
    "\n",
    "X_transformed = transform_features(X)\n",
    "X_sub_test_transformed = transform_features(X_sub_test)\n",
    "\n",
    "# use the full train and cross validation data to train a new model\n",
    "model = train_poly_ridge(X_transformed, y, degree=3, alpha=10.0)\n",
    "y_pred = model.predict(X_sub_test_transformed[features])\n",
    "\n",
    "df_pred = pd.DataFrame({'scaled-sound-pressure': y_pred})\n",
    "df_pred.index.name = 'id'\n",
    "df_pred.to_csv('submission.csv', index=True)"
   ]
  },
  {
   "cell_type": "code",
   "execution_count": null,
   "id": "e9a20cc7",
   "metadata": {},
   "outputs": [],
   "source": [
    "# overview the train, test, and predict dataset\n",
    "\n",
    "training_df = pd.read_csv(\"train.csv\")\n",
    "print(training_df.describe())\n",
    "# print(X_sub_test.describe())\n",
    "# print(df_pred.describe())"
   ]
  }
 ],
 "metadata": {
  "kernelspec": {
   "display_name": "Python 3",
   "language": "python",
   "name": "python3"
  },
  "language_info": {
   "codemirror_mode": {
    "name": "ipython",
    "version": 3
   },
   "file_extension": ".py",
   "mimetype": "text/x-python",
   "name": "python",
   "nbconvert_exporter": "python",
   "pygments_lexer": "ipython3",
   "version": "3.12.7"
  }
 },
 "nbformat": 4,
 "nbformat_minor": 5
}
