{
 "cells": [
  {
   "cell_type": "code",
   "execution_count": 67,
   "id": "3117ecf3",
   "metadata": {},
   "outputs": [],
   "source": [
    "import numpy as np\n",
    "import pandas as pd"
   ]
  },
  {
   "cell_type": "code",
   "execution_count": 68,
   "id": "22347174",
   "metadata": {},
   "outputs": [
    {
     "name": "stdout",
     "output_type": "stream",
     "text": [
      "{'uci_id': 291, 'name': 'Airfoil Self-Noise', 'repository_url': 'https://archive.ics.uci.edu/dataset/291/airfoil+self+noise', 'data_url': 'https://archive.ics.uci.edu/static/public/291/data.csv', 'abstract': 'NASA data set, obtained from a series of aerodynamic and acoustic tests of two and three-dimensional airfoil blade sections conducted in an anechoic wind tunnel.', 'area': 'Physics and Chemistry', 'tasks': ['Regression'], 'characteristics': ['Multivariate'], 'num_instances': 1503, 'num_features': 5, 'feature_types': ['Real'], 'demographics': [], 'target_col': ['scaled-sound-pressure'], 'index_col': None, 'has_missing_values': 'no', 'missing_values_symbol': None, 'year_of_dataset_creation': 1989, 'last_updated': 'Fri Mar 29 2024', 'dataset_doi': '10.24432/C5VW2C', 'creators': ['Thomas Brooks', 'D. Pope', 'Michael Marcolini'], 'intro_paper': None, 'additional_info': {'summary': 'The NASA data set comprises different size NACA 0012 airfoils at various wind tunnel speeds and angles of attack. The span of the airfoil and the observer position were the same in all of the experiments. ', 'purpose': None, 'funded_by': None, 'instances_represent': None, 'recommended_data_splits': None, 'sensitive_data': None, 'preprocessing_description': None, 'variable_info': 'This problem has the following inputs:\\r\\n1. Frequency, in Hertzs. \\r\\n2. Angle of attack, in degrees. \\r\\n3. Chord length, in meters.\\r\\n4. Free-stream velocity, in meters per second. \\r\\n5. Suction side displacement thickness, in meters. \\r\\n\\r\\nThe only output is:\\r\\n6. Scaled sound pressure level, in decibels. \\r\\n', 'citation': None}}\n",
      "                                  name     role        type demographic  \\\n",
      "0                            frequency  Feature     Integer        None   \n",
      "1                         attack-angle  Feature      Binary        None   \n",
      "2                         chord-length  Feature  Continuous        None   \n",
      "3                 free-stream-velocity  Feature  Continuous        None   \n",
      "4  suction-side-displacement-thickness  Feature  Continuous        None   \n",
      "5                scaled-sound-pressure   Target  Continuous        None   \n",
      "\n",
      "  description units missing_values  \n",
      "0        None    Hz             no  \n",
      "1        None   deg             no  \n",
      "2        None     m             no  \n",
      "3        None   m/s             no  \n",
      "4        None     m             no  \n",
      "5        None    dB             no  \n"
     ]
    }
   ],
   "source": [
    "# fetch dataset from uci ml repository\n",
    "\n",
    "from ucimlrepo import fetch_ucirepo\n",
    "  \n",
    "# fetch dataset \n",
    "airfoil_self_noise = fetch_ucirepo(id=291) \n",
    "  \n",
    "# data (as pandas dataframes) \n",
    "X = airfoil_self_noise.data.features \n",
    "y = airfoil_self_noise.data.targets \n",
    "# metadata \n",
    "print(airfoil_self_noise.metadata) \n",
    "# variable information \n",
    "print(airfoil_self_noise.variables) "
   ]
  },
  {
   "cell_type": "code",
   "execution_count": 69,
   "id": "90c427c1",
   "metadata": {},
   "outputs": [],
   "source": [
    "# define ploynomial fit method\n",
    "\n",
    "from sklearn.model_selection import train_test_split\n",
    "from sklearn.preprocessing import PolynomialFeatures\n",
    "from sklearn.linear_model import Ridge\n",
    "from sklearn.preprocessing import StandardScaler\n",
    "from sklearn.pipeline import Pipeline\n",
    "from sklearn.metrics import mean_squared_error\n",
    "\n",
    "def train_poly_ridge(X_train, y_train, degree=3, alpha=1.0):\n",
    "    \"\"\"Train Ridge regression with polynomial features.\"\"\"\n",
    "    model = Pipeline([\n",
    "        (\"scale\", StandardScaler()),\n",
    "        (\"poly\", PolynomialFeatures(degree=degree, include_bias=False)),\n",
    "        (\"ridge\", Ridge(alpha=alpha, solver='auto')) # regularization\n",
    "    ])\n",
    "    model.fit(X_train, y_train)\n",
    "    return model\n",
    "\n",
    "def evaluate_model(model, X_test, y_test):\n",
    "    \"\"\"Evaluate model and print MSE.\"\"\"\n",
    "    y_pred = model.predict(X_test)\n",
    "    mse = mean_squared_error(y_test, y_pred)\n",
    "    print(f\"Mean Squared Error: {mse:.4f}\")\n",
    "    return y_pred\n"
   ]
  },
  {
   "cell_type": "code",
   "execution_count": 70,
   "id": "d615fb1d",
   "metadata": {},
   "outputs": [],
   "source": [
    "# feature engineering: transform training data\n",
    "\n",
    "def transform_features(X: pd.DataFrame) -> pd.DataFrame:\n",
    "    X_transformed = pd.DataFrame(index=X.index)\n",
    "\n",
    "    # Keep only meaningful features and interactions\n",
    "    X_transformed[\"frequency\"] = X[\"frequency\"]\n",
    "    X_transformed[\"log_frequency\"] = np.log1p(X[\"frequency\"])\n",
    "    X_transformed[\"log_thickness\"] = np.log1p(X[\"suction-side-displacement-thickness\"])\n",
    "    X_transformed[\"chord-length\"] = X[\"chord-length\"]\n",
    "    X_transformed[\"freq_times_thick\"] = X[\"frequency\"] * X[\"suction-side-displacement-thickness\"]\n",
    "    X_transformed[\"angle_times_freq\"] = X[\"attack-angle\"] * X[\"frequency\"]\n",
    "    X_transformed[\"abs_angle_times_freq\"] = np.abs(X[\"attack-angle\"]) * X[\"frequency\"]\n",
    "    \n",
    "    # New physical interaction features\n",
    "    X_transformed[\"velocity_times_thick\"] = X[\"free-stream-velocity\"] * X[\"suction-side-displacement-thickness\"]\n",
    "    X_transformed[\"log_velocity\"] = np.log1p(X[\"free-stream-velocity\"])\n",
    "    X_transformed[\"log_velocity_div_chord\"] = np.log1p(X[\"free-stream-velocity\"] / X[\"chord-length\"])\n",
    "    X_transformed[\"freq_div_velocity\"] = X[\"frequency\"] / X[\"free-stream-velocity\"]\n",
    "    X_transformed[\"angle_times_thick\"] = X[\"attack-angle\"] * X[\"suction-side-displacement-thickness\"]\n",
    "    X_transformed[\"angle_over_chord\"] = X[\"attack-angle\"] / X[\"chord-length\"]\n",
    "\n",
    "    return X_transformed\n"
   ]
  },
  {
   "cell_type": "code",
   "execution_count": 71,
   "id": "52d8453f",
   "metadata": {},
   "outputs": [
    {
     "data": {
      "text/plain": [
       "Index(['frequency', 'attack-angle', 'chord-length', 'free-stream-velocity',\n",
       "       'suction-side-displacement-thickness'],\n",
       "      dtype='object')"
      ]
     },
     "execution_count": 71,
     "metadata": {},
     "output_type": "execute_result"
    }
   ],
   "source": [
    "X.columns"
   ]
  },
  {
   "cell_type": "code",
   "execution_count": 88,
   "id": "c130c7b0",
   "metadata": {},
   "outputs": [
    {
     "name": "stdout",
     "output_type": "stream",
     "text": [
      "Mean Squared Error: 3.5662\n"
     ]
    }
   ],
   "source": [
    "# train a model\n",
    "\n",
    "# Split\n",
    "X_train, X_test, y_train, y_test = train_test_split(\n",
    "    airfoil_self_noise.data.features,\n",
    "    airfoil_self_noise.data.targets,\n",
    "    test_size=0.2,\n",
    "    random_state=42\n",
    ")\n",
    "\n",
    "X_train_transformed = transform_features(X_train)\n",
    "X_test_transformed = transform_features(X_test)\n",
    "features = list(X_train_transformed.columns)\n",
    "\n",
    "# Train model and evaluate\n",
    "model = train_poly_ridge(X_train_transformed, y_train, degree=3, alpha=0.3)\n",
    "y_pred = evaluate_model(model, X_test_transformed, y_test)"
   ]
  },
  {
   "cell_type": "code",
   "execution_count": 73,
   "id": "426a726d",
   "metadata": {},
   "outputs": [
    {
     "name": "stdout",
     "output_type": "stream",
     "text": [
      "log_velocity_div_chord    0.265700\n",
      "log_velocity              0.118750\n",
      "angle_over_chord         -0.009829\n",
      "velocity_times_thick     -0.202907\n",
      "chord-length             -0.241412\n",
      "angle_times_thick        -0.249607\n",
      "log_thickness            -0.281684\n",
      "log_frequency            -0.374685\n",
      "frequency                -0.409621\n",
      "freq_div_velocity        -0.415941\n",
      "angle_times_freq         -0.430317\n",
      "abs_angle_times_freq     -0.430317\n",
      "freq_times_thick         -0.572944\n",
      "Name: target, dtype: float64\n"
     ]
    }
   ],
   "source": [
    "# compute corr coef\n",
    "\n",
    "X_train_transformed[\"target\"] = y_train\n",
    "corr_matrix = X_train_transformed.corr()\n",
    "target_corr = corr_matrix[\"target\"].drop(\"target\").sort_values(ascending=False)\n",
    "print(target_corr)"
   ]
  },
  {
   "cell_type": "code",
   "execution_count": 74,
   "id": "60a9aa0c",
   "metadata": {},
   "outputs": [],
   "source": [
    "# find optimal param using grad search\n",
    "\n",
    "from sklearn.model_selection import GridSearchCV\n",
    "from sklearn.pipeline import Pipeline\n",
    "from sklearn.preprocessing import PolynomialFeatures, StandardScaler\n",
    "from sklearn.linear_model import Ridge\n",
    "\n",
    "def build_pipeline():\n",
    "    return Pipeline([\n",
    "        (\"scale\", StandardScaler()),\n",
    "        (\"poly\", PolynomialFeatures()),\n",
    "        (\"ridge\", Ridge())\n",
    "    ])\n",
    "\n",
    "def run_grid_search(X_train, y_train):\n",
    "    pipeline = build_pipeline()\n",
    "\n",
    "    param_grid = {\n",
    "        \"poly__degree\": [2, 3, 4, 5],\n",
    "        \"poly__interaction_only\": [False],  # or [True, False]\n",
    "        \"ridge__alpha\": [0.01, 0.1, 1, 10, 100],\n",
    "        \"ridge__solver\": ['auto', 'saga', 'lsqr']\n",
    "    }\n",
    "\n",
    "    grid = GridSearchCV(pipeline, param_grid, scoring='neg_mean_squared_error', cv=5, n_jobs=-1)\n",
    "    grid.fit(X_train, y_train)\n",
    "    return grid\n"
   ]
  },
  {
   "cell_type": "code",
   "execution_count": 75,
   "id": "3145b09b",
   "metadata": {},
   "outputs": [],
   "source": [
    "# # Gradient search\n",
    "\n",
    "# grid = run_grid_search(X_train_transformed, y_train)\n",
    "\n",
    "# # Best model and evaluation\n",
    "# print(\"Best Parameters:\", grid.best_params_)\n",
    "# best_model = grid.best_estimator_\n",
    "# y_pred = best_model.predict(X_test_transformed)\n",
    "\n",
    "# # Evaluate\n",
    "# mse = mean_squared_error(y_test, y_pred)\n",
    "# print(f\"Test MSE: {mse:.4f}\")\n"
   ]
  },
  {
   "cell_type": "code",
   "execution_count": 89,
   "id": "7ed3062c",
   "metadata": {},
   "outputs": [],
   "source": [
    "# predict the testing data and output the submission file\n",
    "\n",
    "X_sub_test = pd.read_csv(\"test.csv\")\n",
    "X_sub_test = X_sub_test.rename(columns={\"displacement-thickness\": \"suction-side-displacement-thickness\"})\n",
    "\n",
    "X_transformed = transform_features(X)\n",
    "X_sub_test_transformed = transform_features(X_sub_test)\n",
    "\n",
    "# use the full train and cross validation data to train a new model\n",
    "model = train_poly_ridge(X_transformed, y, degree=3, alpha=1.0)\n",
    "y_pred = model.predict(X_sub_test_transformed[features])\n",
    "\n",
    "df_pred = pd.DataFrame({'scaled-sound-pressure': y_pred})\n",
    "df_pred.index.name = 'id'\n",
    "df_pred.to_csv('submission.csv', index=True)"
   ]
  },
  {
   "cell_type": "code",
   "execution_count": 77,
   "id": "e9a20cc7",
   "metadata": {},
   "outputs": [
    {
     "name": "stdout",
     "output_type": "stream",
     "text": [
      "          frequency  attack-angle  chord-length  free-stream-velocity  \\\n",
      "count    901.000000    901.000000    901.000000            901.000000   \n",
      "mean    2795.620739      6.892802      0.137146             51.202533   \n",
      "std     3105.639153      5.832397      0.093021             15.699815   \n",
      "min      135.711714     -0.169984      0.022660             31.206276   \n",
      "25%      657.858026      2.015625      0.050679             39.473120   \n",
      "50%     1601.756769      5.405799      0.103025             39.972518   \n",
      "75%     4002.479032      9.982948      0.227843             71.189522   \n",
      "max    20066.902526     22.295612      0.307748             71.755857   \n",
      "\n",
      "       displacement-thickness  scaled-sound-pressure  \n",
      "count              901.000000             901.000000  \n",
      "mean                 0.011361             124.908380  \n",
      "std                  0.013238               6.904827  \n",
      "min                  0.000119             103.324708  \n",
      "25%                  0.002690             120.491306  \n",
      "50%                  0.004928             125.783090  \n",
      "75%                  0.016156             130.024262  \n",
      "max                  0.058568             140.997522  \n"
     ]
    }
   ],
   "source": [
    "# overview the train, test, and predict dataset\n",
    "\n",
    "training_df = pd.read_csv(\"train.csv\")\n",
    "print(training_df.describe())\n",
    "# print(X_sub_test.describe())\n",
    "# print(df_pred.describe())"
   ]
  }
 ],
 "metadata": {
  "kernelspec": {
   "display_name": "Python 3",
   "language": "python",
   "name": "python3"
  },
  "language_info": {
   "codemirror_mode": {
    "name": "ipython",
    "version": 3
   },
   "file_extension": ".py",
   "mimetype": "text/x-python",
   "name": "python",
   "nbconvert_exporter": "python",
   "pygments_lexer": "ipython3",
   "version": "3.12.7"
  }
 },
 "nbformat": 4,
 "nbformat_minor": 5
}
